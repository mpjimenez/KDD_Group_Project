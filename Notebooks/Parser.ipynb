{
 "cells": [
  {
   "cell_type": "code",
   "execution_count": 1,
   "metadata": {
    "collapsed": true
   },
   "outputs": [],
   "source": [
    "import pandas as pd\n",
    "import numpy as np\n",
    "\n",
    "\n",
    "#######NOTE YOU SHOULD BE ABLE TO COPY ALL THSI CODE AND JUST CALL parseMassData() to get all the stats, the codes\n",
    "#######for each statistic can be found in either of the parseCategories functions.\n",
    "####### parseMassData returns 2 dictionaries - cities and states the keys are the names of the places thet contain\n",
    "###### a member of the stats class made below"
   ]
  },
  {
   "cell_type": "code",
   "execution_count": 8,
   "metadata": {
    "collapsed": true
   },
   "outputs": [],
   "source": [
    "#categories file parsing\n",
    "\n",
    "def parseCategoriesCodeFirst():\n",
    "    data = pd.read_csv(\"../datasets/categories.csv\")\n",
    "    categories = {}\n",
    "    for index, row in data.iterrows():\n",
    "        if index > 1:\n",
    "            categories.update({row[0]:row[1]})\n",
    "    return categories\n",
    "\n",
    "def parseCategoriesNameFirst():\n",
    "    data = pd.read_csv(\"../datasets/categories.csv\")\n",
    "    categories = {}\n",
    "    for index, row in data.iterrows():\n",
    "        if index > 1:\n",
    "            categories.update({row[1]:row[0]})\n",
    "    return categories"
   ]
  },
  {
   "cell_type": "code",
   "execution_count": 28,
   "metadata": {
    "collapsed": true
   },
   "outputs": [],
   "source": [
    "class Stats():\n",
    "    @property\n",
    "    def __class__(self):\n",
    "        return Stats\n",
    "    \n",
    "    def __init__(self,place,numStat):\n",
    "        self.place = place\n",
    "        self.numStat = numStat\n",
    "        \n",
    "    def get_place(self):\n",
    "        return self.place\n",
    "    \n",
    "    def get_numStat(self):\n",
    "        return self.numStat\n",
    "    \n",
    "    def get_numStat(self,category):\n",
    "        return self.numStat[category]\n",
    "    \n",
    "    def summary(self):\n",
    "        print(\"numberOfStats:\",len(self.numStat))"
   ]
  },
  {
   "cell_type": "code",
   "execution_count": 33,
   "metadata": {
    "collapsed": true
   },
   "outputs": [],
   "source": [
    "def cleanName(string):\n",
    "    s = string.split(\",\")\n",
    "    return s[0]\n",
    "\n",
    "def getStats(row, columns):\n",
    "    statsAdd = {}\n",
    "    for i in range(3, len(columns)):\n",
    "        statsAdd.update({columns[i]:row[3]})\n",
    "    return statsAdd\n",
    "\n",
    "def parseMassData():\n",
    "    data = pd.read_csv(\"../datasets/dataMass.csv\")\n",
    "    columns = list(data.columns.values)\n",
    "    stateStats = {}\n",
    "    cityStats = {}\n",
    "    for index, row in data.iterrows():\n",
    "        if index > 51:\n",
    "            cityName = cleanName(row[2])\n",
    "            cityStat = getStats(row, columns)\n",
    "            cityStats.update({cityName:Stats(cityName,cityStat)})\n",
    "        else:\n",
    "            stateName = row[2]\n",
    "            stateStat = getStats(row, columns)\n",
    "            stateStats.update({stateName:Stats(stateName,stateStat)})\n",
    "    return cityStats, cityStats"
   ]
  },
  {
   "cell_type": "code",
   "execution_count": 35,
   "metadata": {
    "collapsed": true
   },
   "outputs": [],
   "source": [
    "city, state = parseMassData()\n",
    "    "
   ]
  },
  {
   "cell_type": "code",
   "execution_count": null,
   "metadata": {
    "collapsed": true
   },
   "outputs": [],
   "source": []
  }
 ],
 "metadata": {
  "kernelspec": {
   "display_name": "Python 3",
   "language": "python",
   "name": "python3"
  },
  "language_info": {
   "codemirror_mode": {
    "name": "ipython",
    "version": 3
   },
   "file_extension": ".py",
   "mimetype": "text/x-python",
   "name": "python",
   "nbconvert_exporter": "python",
   "pygments_lexer": "ipython3",
   "version": "3.6.2"
  }
 },
 "nbformat": 4,
 "nbformat_minor": 2
}

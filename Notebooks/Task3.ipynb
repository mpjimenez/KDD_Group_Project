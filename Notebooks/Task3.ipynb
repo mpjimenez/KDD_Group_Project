{
 "cells": [
  {
   "cell_type": "markdown",
   "metadata": {},
   "source": [
    "**CSC 466: Knowledge Discovery in Data **\n",
    "\n",
    "** Individual Test**\n",
    "\n",
    "**Task 3**"
   ]
  },
  {
   "cell_type": "markdown",
   "metadata": {},
   "source": [
    "**Your Name : Matthew Jimenez**\n",
    "\n",
    "**Cal Poly Email: mpjimene@calpoly.edu**\n"
   ]
  },
  {
   "cell_type": "markdown",
   "metadata": {},
   "source": [
    "**Your Assignment**:\n",
    "\n",
    "1. Complete the code for the Naive Bayes Classifier\n",
    "2. Complete the training and testing of the Classifier\n",
    "3. Compute the accuracy of the classifier and output the overall accuracy and the confusion matrix."
   ]
  },
  {
   "cell_type": "code",
   "execution_count": 1,
   "metadata": {},
   "outputs": [],
   "source": [
    "## Imports\n",
    "\n",
    "import numpy as np\n",
    "from matplotlib import pyplot as plt\n",
    "import seaborn\n",
    "%matplotlib inline"
   ]
  },
  {
   "cell_type": "markdown",
   "metadata": {},
   "source": [
    "**estimateNBModel**: function to produce all parameter estimates for the Naive Bayes model.\n",
    "\n",
    "This function returns two structures: an array of class probabilities P(Class = c_i),\n",
    "and a collection of \n",
    "$$P(A_j = a_k|Class = c_i)$$\n",
    "probability estimators for the probability that an observed record from class $c_i$ will take the value $a_k$ for its $j$th attribute $A_j$.\n",
    "\n",
    "The latter collection is stored as a list model[0..nClasses-1], where each model[i] is itself a list of length nAttributes of probability distributions over the values of each attribute.\n",
    "\n",
    "\n",
    "Input parameters for estimateNBModel():\n",
    "\n",
    "data: training set data points\n",
    "\n",
    "labels: labels for the training set data\n",
    "\n",
    "nAttributes: number of attributes in the dataset\n",
    "\n",
    "attributeRanges: number of unique values each attribute takes\n",
    "\n",
    "nClasses: number of classes (class labels)\n"
   ]
  },
  {
   "cell_type": "markdown",
   "metadata": {},
   "source": [
    "**Your Task** :   write the getClassProbability() function that given\n",
    "   \n",
    "   * the list of labels (labels) of the training set\n",
    "\n",
    "   * the class label (classId),\n",
    "   \n",
    "   * and the total number of classes in the dataset (nClasses)\n",
    "   \n",
    " returns the probability estimate for $P(Class = classId)$"
   ]
  },
  {
   "cell_type": "code",
   "execution_count": 1,
   "metadata": {
    "collapsed": true
   },
   "outputs": [],
   "source": [
    "def getClassProbability(labels, classId,nClasses):\n",
    "    \n",
    "    \n",
    "    return 0"
   ]
  },
  {
   "cell_type": "markdown",
   "metadata": {},
   "source": [
    "**Your Task**: write the getNBEstimate() function that given\n",
    "\n",
    "* the training set (data)\n",
    "\n",
    "* the class labels for the training set (labels)\n",
    "\n",
    "* the class label for which the estimate is being produced (classLabel)\n",
    "\n",
    "* the attribute for which the estimate is being produced (attId)\n",
    "\n",
    "* the attribute value for which the estimate is being produced (attValue)\n",
    "\n",
    "* and the total number of values attribute attId has (nValues)\n",
    "\n",
    "produces the probability estimate for $P(A_{attId} = attValue | Class = classLabel)$"
   ]
  },
  {
   "cell_type": "code",
   "execution_count": null,
   "metadata": {
    "collapsed": true
   },
   "outputs": [],
   "source": [
    "def getNBEstimate(data, labels, classLabel, attId, attValue, nValues):\n",
    "    \n",
    "    \n",
    "    return 0\n",
    "    "
   ]
  },
  {
   "cell_type": "code",
   "execution_count": 2,
   "metadata": {},
   "outputs": [],
   "source": [
    "def estimateNBModel(data, labels, nAttributes, attributeRanges, nClasses ):\n",
    "    ## Naive Bayes Model consists of two types of estimators\n",
    "    \n",
    "    ## First, we estimate the probability of seeing an object from a specific class\n",
    "    \n",
    "    classProbabilities = [getClassProbability(labels,l, nClasses) for l in range(nClasses)]\n",
    "    \n",
    "    ## now we estimate the probabilities of seeing a specific value of a specific attribute in\n",
    "    ## a data point from a given class\n",
    "    \n",
    "    ## for each class create the appropriate estimates\n",
    "    model = []                  # model is the list of estimates for all classes\n",
    "    for i in range(nClasses):   # for each class\n",
    "        ## for each attribute\n",
    "        classDistr = []         # classDistr is the collection of estimates for one class\n",
    "        for j in range(nAttributes):\n",
    "            estimates = []                    # estimates is a distribution of estimates for a single attribute\n",
    "            for k in range(attributeRanges[j]):\n",
    "                est = getNBEstimate(data, labels, i,j,k, attributeRanges[j])\n",
    "                estimates.append(est)\n",
    "            classDistr.append(estimates)\n",
    "        model.append(classDistr)\n",
    "    \n",
    "    return classProbabilities, model\n",
    "    "
   ]
  },
  {
   "cell_type": "markdown",
   "metadata": {},
   "source": [
    "**Predicting The Class**\n",
    "\n",
    "function predictNBLabels() predicts the class labels for all data points in the test set.\n",
    "\n",
    "function predictNB() computes the probability estimates for each class and selects the class with the highest estimate for a single data point\n",
    "\n",
    "function predictNBClass computes the probability estimate for a specific class.\n",
    "\n",
    "** Your Task **: implement predictNBClass()\n",
    "\n",
    "its parameters are:\n",
    "\n",
    "* point: the data point for which the estimate is given\n",
    "\n",
    "* classProb:  the class probability P(Class = classID) for the class \n",
    "\n",
    "* classModel: the portion of the Naive Bayes model related to predicting this particular class\n",
    "\n",
    "(note that class label is not passed, but all proper values are selected in predictNB())"
   ]
  },
  {
   "cell_type": "code",
   "execution_count": 3,
   "metadata": {
    "collapsed": true
   },
   "outputs": [],
   "source": [
    "def predictNBClass(point, classProb, classModel):\n",
    "    \n",
    "    \n",
    "    return 0\n",
    "    "
   ]
  },
  {
   "cell_type": "markdown",
   "metadata": {},
   "source": [
    "predictNB()  and predictNBLabels() parameters\n",
    "\n",
    "point: data point\n",
    "\n",
    "classProbabilities: the list of $P(Class = c_i)$ estimates\n",
    "\n",
    "model: the collection of $P(A_j = a_k |Class = c_i)$ probability estimates\n",
    "\n",
    "nClasses: number of class labels in the dataset\n",
    "\n",
    "You do not need to touch this code"
   ]
  },
  {
   "cell_type": "code",
   "execution_count": 82,
   "metadata": {},
   "outputs": [],
   "source": [
    "def predictNB(point, classProbabilities, model,nClasses):\n",
    "    \n",
    "    predictions= np.array([predictNBClass(point, classProbabilities[i],model[i]) for i in range(nClasses)])\n",
    "    \n",
    "    predictedClass = np.argmax(predictions)\n",
    "    return predictedClass\n",
    "\n",
    "    \n",
    "    \n",
    "    "
   ]
  },
  {
   "cell_type": "code",
   "execution_count": 84,
   "metadata": {
    "collapsed": true
   },
   "outputs": [],
   "source": [
    "def predictNBLabels(data, classProbabilities, model, nClasses):\n",
    "    predicted = [predictNB(point, classProbabilities, model, nClasses) for point in data]\n",
    "    return predicted"
   ]
  },
  {
   "cell_type": "markdown",
   "metadata": {},
   "source": [
    "** Load Data **"
   ]
  },
  {
   "cell_type": "code",
   "execution_count": 68,
   "metadata": {},
   "outputs": [],
   "source": [
    "filename=\"data8.csv\"\n",
    "\n",
    "rawData = np.loadtxt(filename, delimiter = \",\")\n",
    "\n",
    "## let's keep only the two columns with the data attributes\n",
    "\n",
    "nAttributes = rawData.shape[1] - 1\n",
    "\n",
    "data = rawData[:,0:nAttributes]\n",
    "labels = rawData[:,nAttributes]"
   ]
  },
  {
   "cell_type": "markdown",
   "metadata": {},
   "source": [
    "** Train the Model**\n",
    "\n",
    "In the cells below the entire dataset  is used to train the model. \n",
    "\n",
    "This allows us to see the predictions, but this is not a fair way to evaluate the quality of prediction."
   ]
  },
  {
   "cell_type": "code",
   "execution_count": 4,
   "metadata": {},
   "outputs": [
    {
     "ename": "NameError",
     "evalue": "name 'nAttributes' is not defined",
     "output_type": "error",
     "traceback": [
      "\u001b[0;31m---------------------------------------------------------------------------\u001b[0m",
      "\u001b[0;31mNameError\u001b[0m                                 Traceback (most recent call last)",
      "\u001b[0;32m<ipython-input-4-964b9eaa039d>\u001b[0m in \u001b[0;36m<module>\u001b[0;34m()\u001b[0m\n\u001b[1;32m      2\u001b[0m \u001b[0;31m### all attributes have values 0,1,.., k-1 where k is the number of unique values for that attribute.\u001b[0m\u001b[0;34m\u001b[0m\u001b[0;34m\u001b[0m\u001b[0m\n\u001b[1;32m      3\u001b[0m \u001b[0;34m\u001b[0m\u001b[0m\n\u001b[0;32m----> 4\u001b[0;31m \u001b[0mattributeRanges\u001b[0m\u001b[0;34m=\u001b[0m \u001b[0;34m[\u001b[0m\u001b[0mnp\u001b[0m\u001b[0;34m.\u001b[0m\u001b[0munique\u001b[0m\u001b[0;34m(\u001b[0m\u001b[0mdata\u001b[0m\u001b[0;34m[\u001b[0m\u001b[0;34m:\u001b[0m\u001b[0;34m,\u001b[0m\u001b[0mi\u001b[0m\u001b[0;34m]\u001b[0m\u001b[0;34m)\u001b[0m\u001b[0;34m.\u001b[0m\u001b[0mshape\u001b[0m\u001b[0;34m[\u001b[0m\u001b[0;36m0\u001b[0m\u001b[0;34m]\u001b[0m \u001b[0;32mfor\u001b[0m \u001b[0mi\u001b[0m \u001b[0;32min\u001b[0m \u001b[0mrange\u001b[0m\u001b[0;34m(\u001b[0m\u001b[0mnAttributes\u001b[0m\u001b[0;34m)\u001b[0m\u001b[0;34m]\u001b[0m\u001b[0;34m\u001b[0m\u001b[0m\n\u001b[0m\u001b[1;32m      5\u001b[0m \u001b[0;34m\u001b[0m\u001b[0m\n\u001b[1;32m      6\u001b[0m \u001b[0;31m## number of classes\u001b[0m\u001b[0;34m\u001b[0m\u001b[0;34m\u001b[0m\u001b[0m\n",
      "\u001b[0;31mNameError\u001b[0m: name 'nAttributes' is not defined"
     ]
    }
   ],
   "source": [
    "### Let us compute how many unique values each attribute has.\n",
    "### all attributes have values 0,1,.., k-1 where k is the number of unique values for that attribute.\n",
    "\n",
    "attributeRanges= [np.unique(data[:,i]).shape[0] for i in range(nAttributes)]\n",
    "\n",
    "## number of classes\n",
    "\n",
    "nClasses = np.unique(labels).shape[0]"
   ]
  },
  {
   "cell_type": "code",
   "execution_count": 72,
   "metadata": {},
   "outputs": [],
   "source": [
    "d,m = estimateNBModel(data,labels,nAttributes, attributeRanges,nClasses)"
   ]
  },
  {
   "cell_type": "code",
   "execution_count": 86,
   "metadata": {},
   "outputs": [],
   "source": [
    "predicted = predictNBLabels(data,d,m,nClasses)"
   ]
  },
  {
   "cell_type": "code",
   "execution_count": null,
   "metadata": {
    "collapsed": true
   },
   "outputs": [],
   "source": [
    "An easy way to see where we missed:"
   ]
  },
  {
   "cell_type": "code",
   "execution_count": null,
   "metadata": {
    "collapsed": true
   },
   "outputs": [],
   "source": [
    "predicted - labels"
   ]
  },
  {
   "cell_type": "markdown",
   "metadata": {
    "collapsed": true
   },
   "source": [
    "**Your Task**:\n",
    "\n",
    "Split your dataset into the training set (2/3 of the data = 200 data points) and the test set (the remaining 1/3 of the data points = 100 points). Select your points at random, but make it reproducible by setting the seed."
   ]
  },
  {
   "cell_type": "code",
   "execution_count": null,
   "metadata": {
    "collapsed": true
   },
   "outputs": [],
   "source": []
  },
  {
   "cell_type": "markdown",
   "metadata": {},
   "source": [
    "** Your Task**: train the model on the training set"
   ]
  },
  {
   "cell_type": "code",
   "execution_count": null,
   "metadata": {
    "collapsed": true
   },
   "outputs": [],
   "source": []
  },
  {
   "cell_type": "markdown",
   "metadata": {},
   "source": [
    "** Your Task**: evaluate the model on the test set. Retrieve the predicted labels for the test set data points."
   ]
  },
  {
   "cell_type": "code",
   "execution_count": null,
   "metadata": {
    "collapsed": true
   },
   "outputs": [],
   "source": []
  },
  {
   "cell_type": "markdown",
   "metadata": {},
   "source": [
    "** Your Task**: compute the predictive accuracy on the training set and report it. \n",
    "\n",
    "Compute the predictive accuract on the test set and report it.\n",
    "\n",
    "Is there any evidence that the model overfits? (put a note in a markdown cell0\n"
   ]
  },
  {
   "cell_type": "code",
   "execution_count": null,
   "metadata": {
    "collapsed": true
   },
   "outputs": [],
   "source": []
  },
  {
   "cell_type": "markdown",
   "metadata": {},
   "source": [
    "Answer the overfit question here."
   ]
  },
  {
   "cell_type": "markdown",
   "metadata": {},
   "source": [
    "**Your Task**: compute and output the confusion matrix"
   ]
  },
  {
   "cell_type": "code",
   "execution_count": null,
   "metadata": {
    "collapsed": true
   },
   "outputs": [],
   "source": []
  },
  {
   "cell_type": "markdown",
   "metadata": {},
   "source": [
    "**Congratulations!** Your are done.\n",
    "\n",
    "Download the notebook, and submit it using the \n",
    "\n",
    "        handin dekhtyar 446-test <file>\n",
    " command."
   ]
  },
  {
   "cell_type": "code",
   "execution_count": null,
   "metadata": {
    "collapsed": true
   },
   "outputs": [],
   "source": []
  }
 ],
 "metadata": {
  "kernelspec": {
   "display_name": "Python 3",
   "language": "python",
   "name": "python3"
  },
  "language_info": {
   "codemirror_mode": {
    "name": "ipython",
    "version": 3
   },
   "file_extension": ".py",
   "mimetype": "text/x-python",
   "name": "python",
   "nbconvert_exporter": "python",
   "pygments_lexer": "ipython3",
   "version": "3.6.5"
  }
 },
 "nbformat": 4,
 "nbformat_minor": 2
}
